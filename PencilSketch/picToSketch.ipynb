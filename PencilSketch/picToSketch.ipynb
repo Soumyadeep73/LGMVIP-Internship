{
 "cells": [
  {
   "cell_type": "code",
   "execution_count": null,
   "id": "e148f767",
   "metadata": {},
   "outputs": [],
   "source": [
    "import cv2\n",
    "\n",
    "# Read the input image\n",
    "img = cv2.imread('71299-nobi-youtube-nobita-television-doraemon-free-photo-png-thumb.png')\n",
    "\n",
    "# Convert the image to grayscale\n",
    "gray_img = cv2.cvtColor(img, cv2.COLOR_BGR2GRAY)\n",
    "\n",
    "# Invert the grayscale image\n",
    "inverted_gray_img = 255 - gray_img\n",
    "\n",
    "# Apply Gaussian blur to the inverted image\n",
    "blurred_img = cv2.GaussianBlur(inverted_gray_img, (21, 21), 0)\n",
    "\n",
    "# Blend the grayscale image with the blurred image using the \"color dodge\" blend mode\n",
    "sketch_img = cv2.divide(gray_img, 255 - blurred_img, scale=256)\n",
    "\n",
    "# Display the sketch image\n",
    "cv2.imshow('Pencil Sketch', sketch_img)\n",
    "cv2.waitKey(0)\n"
   ]
  },
  {
   "cell_type": "code",
   "execution_count": null,
   "id": "14e07afe",
   "metadata": {},
   "outputs": [],
   "source": []
  }
 ],
 "metadata": {
  "kernelspec": {
   "display_name": "Python 3 (ipykernel)",
   "language": "python",
   "name": "python3"
  },
  "language_info": {
   "codemirror_mode": {
    "name": "ipython",
    "version": 3
   },
   "file_extension": ".py",
   "mimetype": "text/x-python",
   "name": "python",
   "nbconvert_exporter": "python",
   "pygments_lexer": "ipython3",
   "version": "3.9.12"
  }
 },
 "nbformat": 4,
 "nbformat_minor": 5
}
